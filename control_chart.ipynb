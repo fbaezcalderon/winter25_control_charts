{
 "cells": [
  {
   "cell_type": "markdown",
   "metadata": {},
   "source": [
    "## Imports"
   ]
  },
  {
   "cell_type": "code",
   "execution_count": 1,
   "metadata": {},
   "outputs": [],
   "source": [
    "import pandas as pd\n",
    "import seaborn as sns\n",
    "import matplotlib.pyplot as plot\n",
    "import numpy as np"
   ]
  },
  {
   "cell_type": "markdown",
   "metadata": {},
   "source": [
    "## DATA"
   ]
  },
  {
   "cell_type": "code",
   "execution_count": 2,
   "metadata": {},
   "outputs": [
    {
     "data": {
      "text/html": [
       "<div>\n",
       "<style scoped>\n",
       "    .dataframe tbody tr th:only-of-type {\n",
       "        vertical-align: middle;\n",
       "    }\n",
       "\n",
       "    .dataframe tbody tr th {\n",
       "        vertical-align: top;\n",
       "    }\n",
       "\n",
       "    .dataframe thead th {\n",
       "        text-align: right;\n",
       "    }\n",
       "</style>\n",
       "<table border=\"1\" class=\"dataframe\">\n",
       "  <thead>\n",
       "    <tr style=\"text-align: right;\">\n",
       "      <th></th>\n",
       "      <th>sample_no</th>\n",
       "      <th>x1</th>\n",
       "      <th>x2</th>\n",
       "      <th>x3</th>\n",
       "      <th>x4</th>\n",
       "      <th>x5</th>\n",
       "      <th>x6</th>\n",
       "      <th>x7</th>\n",
       "    </tr>\n",
       "  </thead>\n",
       "  <tbody>\n",
       "    <tr>\n",
       "      <th>0</th>\n",
       "      <td>1</td>\n",
       "      <td>224</td>\n",
       "      <td>220</td>\n",
       "      <td>221</td>\n",
       "      <td>222</td>\n",
       "      <td>224</td>\n",
       "      <td>32.0</td>\n",
       "      <td>34.0</td>\n",
       "    </tr>\n",
       "    <tr>\n",
       "      <th>1</th>\n",
       "      <td>2</td>\n",
       "      <td>222</td>\n",
       "      <td>220</td>\n",
       "      <td>221</td>\n",
       "      <td>223</td>\n",
       "      <td>223</td>\n",
       "      <td>NaN</td>\n",
       "      <td>NaN</td>\n",
       "    </tr>\n",
       "    <tr>\n",
       "      <th>2</th>\n",
       "      <td>3</td>\n",
       "      <td>223</td>\n",
       "      <td>221</td>\n",
       "      <td>224</td>\n",
       "      <td>224</td>\n",
       "      <td>221</td>\n",
       "      <td>NaN</td>\n",
       "      <td>NaN</td>\n",
       "    </tr>\n",
       "    <tr>\n",
       "      <th>3</th>\n",
       "      <td>4</td>\n",
       "      <td>223</td>\n",
       "      <td>221</td>\n",
       "      <td>223</td>\n",
       "      <td>223</td>\n",
       "      <td>223</td>\n",
       "      <td>NaN</td>\n",
       "      <td>NaN</td>\n",
       "    </tr>\n",
       "    <tr>\n",
       "      <th>4</th>\n",
       "      <td>5</td>\n",
       "      <td>223</td>\n",
       "      <td>221</td>\n",
       "      <td>221</td>\n",
       "      <td>223</td>\n",
       "      <td>220</td>\n",
       "      <td>NaN</td>\n",
       "      <td>NaN</td>\n",
       "    </tr>\n",
       "  </tbody>\n",
       "</table>\n",
       "</div>"
      ],
      "text/plain": [
       "   sample_no   x1   x2   x3   x4   x5    x6    x7\n",
       "0          1  224  220  221  222  224  32.0  34.0\n",
       "1          2  222  220  221  223  223   NaN   NaN\n",
       "2          3  223  221  224  224  221   NaN   NaN\n",
       "3          4  223  221  223  223  223   NaN   NaN\n",
       "4          5  223  221  221  223  220   NaN   NaN"
      ]
     },
     "execution_count": 2,
     "metadata": {},
     "output_type": "execute_result"
    }
   ],
   "source": [
    "data_df  =  pd.read_excel('dog_treats_data.xlsx')\n",
    "data_df.head()"
   ]
  },
  {
   "cell_type": "code",
   "execution_count": 3,
   "metadata": {},
   "outputs": [
    {
     "name": "stdout",
     "output_type": "stream",
     "text": [
      "<class 'pandas.core.frame.DataFrame'>\n",
      "RangeIndex: 24 entries, 0 to 23\n",
      "Data columns (total 8 columns):\n",
      " #   Column     Non-Null Count  Dtype  \n",
      "---  ------     --------------  -----  \n",
      " 0   sample_no  24 non-null     int64  \n",
      " 1   x1         24 non-null     int64  \n",
      " 2   x2         24 non-null     int64  \n",
      " 3   x3         24 non-null     int64  \n",
      " 4   x4         24 non-null     int64  \n",
      " 5   x5         24 non-null     int64  \n",
      " 6   x6         1 non-null      float64\n",
      " 7   x7         1 non-null      float64\n",
      "dtypes: float64(2), int64(6)\n",
      "memory usage: 1.6 KB\n"
     ]
    }
   ],
   "source": [
    "data_df.info()"
   ]
  },
  {
   "cell_type": "code",
   "execution_count": 5,
   "metadata": {},
   "outputs": [
    {
     "data": {
      "text/plain": [
       "(24, 8)"
      ]
     },
     "execution_count": 5,
     "metadata": {},
     "output_type": "execute_result"
    }
   ],
   "source": [
    "data_df.shape"
   ]
  },
  {
   "cell_type": "code",
   "execution_count": 7,
   "metadata": {},
   "outputs": [
    {
     "data": {
      "text/plain": [
       "sample_no     0\n",
       "x1            0\n",
       "x2            0\n",
       "x3            0\n",
       "x4            0\n",
       "x5            0\n",
       "x6           23\n",
       "x7           23\n",
       "dtype: int64"
      ]
     },
     "execution_count": 7,
     "metadata": {},
     "output_type": "execute_result"
    }
   ],
   "source": [
    "data_df.isnull().sum()"
   ]
  },
  {
   "cell_type": "code",
   "execution_count": 10,
   "metadata": {},
   "outputs": [
    {
     "data": {
      "text/plain": [
       "array([ 1,  2,  3,  4,  5,  6,  7,  8,  9, 10, 12, 13, 14, 15, 16, 17, 18,\n",
       "       19, 20, 21, 22, 23, 24, 25], dtype=int64)"
      ]
     },
     "execution_count": 10,
     "metadata": {},
     "output_type": "execute_result"
    }
   ],
   "source": [
    "data_df['sample_no'].unique()"
   ]
  },
  {
   "cell_type": "code",
   "execution_count": 12,
   "metadata": {},
   "outputs": [],
   "source": [
    "data_df.drop(columns=['x6','x7'],inplace=True)"
   ]
  },
  {
   "cell_type": "code",
   "execution_count": 13,
   "metadata": {},
   "outputs": [
    {
     "data": {
      "text/html": [
       "<div>\n",
       "<style scoped>\n",
       "    .dataframe tbody tr th:only-of-type {\n",
       "        vertical-align: middle;\n",
       "    }\n",
       "\n",
       "    .dataframe tbody tr th {\n",
       "        vertical-align: top;\n",
       "    }\n",
       "\n",
       "    .dataframe thead th {\n",
       "        text-align: right;\n",
       "    }\n",
       "</style>\n",
       "<table border=\"1\" class=\"dataframe\">\n",
       "  <thead>\n",
       "    <tr style=\"text-align: right;\">\n",
       "      <th></th>\n",
       "      <th>sample_no</th>\n",
       "      <th>x1</th>\n",
       "      <th>x2</th>\n",
       "      <th>x3</th>\n",
       "      <th>x4</th>\n",
       "      <th>x5</th>\n",
       "    </tr>\n",
       "  </thead>\n",
       "  <tbody>\n",
       "    <tr>\n",
       "      <th>count</th>\n",
       "      <td>24.000000</td>\n",
       "      <td>24.000000</td>\n",
       "      <td>24.000000</td>\n",
       "      <td>24.000000</td>\n",
       "      <td>24.000000</td>\n",
       "      <td>24.000000</td>\n",
       "    </tr>\n",
       "    <tr>\n",
       "      <th>mean</th>\n",
       "      <td>13.083333</td>\n",
       "      <td>222.333333</td>\n",
       "      <td>222.041667</td>\n",
       "      <td>221.750000</td>\n",
       "      <td>222.000000</td>\n",
       "      <td>222.750000</td>\n",
       "    </tr>\n",
       "    <tr>\n",
       "      <th>std</th>\n",
       "      <td>7.506036</td>\n",
       "      <td>1.307725</td>\n",
       "      <td>2.136213</td>\n",
       "      <td>1.481773</td>\n",
       "      <td>1.351328</td>\n",
       "      <td>1.390965</td>\n",
       "    </tr>\n",
       "    <tr>\n",
       "      <th>min</th>\n",
       "      <td>1.000000</td>\n",
       "      <td>220.000000</td>\n",
       "      <td>220.000000</td>\n",
       "      <td>220.000000</td>\n",
       "      <td>220.000000</td>\n",
       "      <td>220.000000</td>\n",
       "    </tr>\n",
       "    <tr>\n",
       "      <th>25%</th>\n",
       "      <td>6.750000</td>\n",
       "      <td>221.750000</td>\n",
       "      <td>220.000000</td>\n",
       "      <td>220.750000</td>\n",
       "      <td>221.000000</td>\n",
       "      <td>222.000000</td>\n",
       "    </tr>\n",
       "    <tr>\n",
       "      <th>50%</th>\n",
       "      <td>13.500000</td>\n",
       "      <td>222.500000</td>\n",
       "      <td>221.500000</td>\n",
       "      <td>221.500000</td>\n",
       "      <td>222.000000</td>\n",
       "      <td>223.000000</td>\n",
       "    </tr>\n",
       "    <tr>\n",
       "      <th>75%</th>\n",
       "      <td>19.250000</td>\n",
       "      <td>223.000000</td>\n",
       "      <td>223.000000</td>\n",
       "      <td>223.000000</td>\n",
       "      <td>223.000000</td>\n",
       "      <td>224.000000</td>\n",
       "    </tr>\n",
       "    <tr>\n",
       "      <th>max</th>\n",
       "      <td>25.000000</td>\n",
       "      <td>224.000000</td>\n",
       "      <td>228.000000</td>\n",
       "      <td>224.000000</td>\n",
       "      <td>225.000000</td>\n",
       "      <td>226.000000</td>\n",
       "    </tr>\n",
       "  </tbody>\n",
       "</table>\n",
       "</div>"
      ],
      "text/plain": [
       "       sample_no          x1          x2          x3          x4          x5\n",
       "count  24.000000   24.000000   24.000000   24.000000   24.000000   24.000000\n",
       "mean   13.083333  222.333333  222.041667  221.750000  222.000000  222.750000\n",
       "std     7.506036    1.307725    2.136213    1.481773    1.351328    1.390965\n",
       "min     1.000000  220.000000  220.000000  220.000000  220.000000  220.000000\n",
       "25%     6.750000  221.750000  220.000000  220.750000  221.000000  222.000000\n",
       "50%    13.500000  222.500000  221.500000  221.500000  222.000000  223.000000\n",
       "75%    19.250000  223.000000  223.000000  223.000000  223.000000  224.000000\n",
       "max    25.000000  224.000000  228.000000  224.000000  225.000000  226.000000"
      ]
     },
     "execution_count": 13,
     "metadata": {},
     "output_type": "execute_result"
    }
   ],
   "source": [
    "data_df.describe()"
   ]
  },
  {
   "cell_type": "code",
   "execution_count": null,
   "metadata": {},
   "outputs": [],
   "source": [
    "t_df =  data_df.T  # Only for analysis. "
   ]
  },
  {
   "cell_type": "code",
   "execution_count": 17,
   "metadata": {},
   "outputs": [
    {
     "data": {
      "text/html": [
       "<div>\n",
       "<style scoped>\n",
       "    .dataframe tbody tr th:only-of-type {\n",
       "        vertical-align: middle;\n",
       "    }\n",
       "\n",
       "    .dataframe tbody tr th {\n",
       "        vertical-align: top;\n",
       "    }\n",
       "\n",
       "    .dataframe thead th {\n",
       "        text-align: right;\n",
       "    }\n",
       "</style>\n",
       "<table border=\"1\" class=\"dataframe\">\n",
       "  <thead>\n",
       "    <tr style=\"text-align: right;\">\n",
       "      <th></th>\n",
       "      <th>0</th>\n",
       "      <th>1</th>\n",
       "      <th>2</th>\n",
       "      <th>3</th>\n",
       "      <th>4</th>\n",
       "      <th>5</th>\n",
       "      <th>6</th>\n",
       "      <th>7</th>\n",
       "      <th>8</th>\n",
       "      <th>9</th>\n",
       "      <th>...</th>\n",
       "      <th>14</th>\n",
       "      <th>15</th>\n",
       "      <th>16</th>\n",
       "      <th>17</th>\n",
       "      <th>18</th>\n",
       "      <th>19</th>\n",
       "      <th>20</th>\n",
       "      <th>21</th>\n",
       "      <th>22</th>\n",
       "      <th>23</th>\n",
       "    </tr>\n",
       "  </thead>\n",
       "  <tbody>\n",
       "    <tr>\n",
       "      <th>count</th>\n",
       "      <td>6.000000</td>\n",
       "      <td>6.000000</td>\n",
       "      <td>6.000000</td>\n",
       "      <td>6.000000</td>\n",
       "      <td>6.000000</td>\n",
       "      <td>6.000000</td>\n",
       "      <td>6.00000</td>\n",
       "      <td>6.000000</td>\n",
       "      <td>6.000000</td>\n",
       "      <td>6.000000</td>\n",
       "      <td>...</td>\n",
       "      <td>6.000000</td>\n",
       "      <td>6.000000</td>\n",
       "      <td>6.000000</td>\n",
       "      <td>6.000000</td>\n",
       "      <td>6.000000</td>\n",
       "      <td>6.000000</td>\n",
       "      <td>6.000000</td>\n",
       "      <td>6.000000</td>\n",
       "      <td>6.000000</td>\n",
       "      <td>6.000000</td>\n",
       "    </tr>\n",
       "    <tr>\n",
       "      <th>mean</th>\n",
       "      <td>185.333333</td>\n",
       "      <td>185.166667</td>\n",
       "      <td>186.000000</td>\n",
       "      <td>186.166667</td>\n",
       "      <td>185.500000</td>\n",
       "      <td>187.000000</td>\n",
       "      <td>185.50000</td>\n",
       "      <td>186.500000</td>\n",
       "      <td>187.166667</td>\n",
       "      <td>186.500000</td>\n",
       "      <td>...</td>\n",
       "      <td>186.833333</td>\n",
       "      <td>186.833333</td>\n",
       "      <td>188.166667</td>\n",
       "      <td>189.166667</td>\n",
       "      <td>188.333333</td>\n",
       "      <td>188.166667</td>\n",
       "      <td>188.500000</td>\n",
       "      <td>189.500000</td>\n",
       "      <td>188.833333</td>\n",
       "      <td>188.833333</td>\n",
       "    </tr>\n",
       "    <tr>\n",
       "      <th>std</th>\n",
       "      <td>90.318695</td>\n",
       "      <td>89.740552</td>\n",
       "      <td>89.661586</td>\n",
       "      <td>89.246662</td>\n",
       "      <td>88.434722</td>\n",
       "      <td>88.674686</td>\n",
       "      <td>87.45456</td>\n",
       "      <td>87.459133</td>\n",
       "      <td>87.327926</td>\n",
       "      <td>86.472539</td>\n",
       "      <td>...</td>\n",
       "      <td>83.700458</td>\n",
       "      <td>83.216385</td>\n",
       "      <td>83.367660</td>\n",
       "      <td>83.367660</td>\n",
       "      <td>82.478280</td>\n",
       "      <td>81.905840</td>\n",
       "      <td>81.578796</td>\n",
       "      <td>81.576345</td>\n",
       "      <td>80.759932</td>\n",
       "      <td>80.273076</td>\n",
       "    </tr>\n",
       "    <tr>\n",
       "      <th>min</th>\n",
       "      <td>1.000000</td>\n",
       "      <td>2.000000</td>\n",
       "      <td>3.000000</td>\n",
       "      <td>4.000000</td>\n",
       "      <td>5.000000</td>\n",
       "      <td>6.000000</td>\n",
       "      <td>7.00000</td>\n",
       "      <td>8.000000</td>\n",
       "      <td>9.000000</td>\n",
       "      <td>10.000000</td>\n",
       "      <td>...</td>\n",
       "      <td>16.000000</td>\n",
       "      <td>17.000000</td>\n",
       "      <td>18.000000</td>\n",
       "      <td>19.000000</td>\n",
       "      <td>20.000000</td>\n",
       "      <td>21.000000</td>\n",
       "      <td>22.000000</td>\n",
       "      <td>23.000000</td>\n",
       "      <td>24.000000</td>\n",
       "      <td>25.000000</td>\n",
       "    </tr>\n",
       "    <tr>\n",
       "      <th>25%</th>\n",
       "      <td>220.250000</td>\n",
       "      <td>220.250000</td>\n",
       "      <td>221.000000</td>\n",
       "      <td>221.500000</td>\n",
       "      <td>220.250000</td>\n",
       "      <td>222.250000</td>\n",
       "      <td>220.00000</td>\n",
       "      <td>220.250000</td>\n",
       "      <td>220.250000</td>\n",
       "      <td>220.500000</td>\n",
       "      <td>...</td>\n",
       "      <td>220.000000</td>\n",
       "      <td>220.000000</td>\n",
       "      <td>221.250000</td>\n",
       "      <td>222.250000</td>\n",
       "      <td>220.250000</td>\n",
       "      <td>220.250000</td>\n",
       "      <td>220.250000</td>\n",
       "      <td>221.250000</td>\n",
       "      <td>220.250000</td>\n",
       "      <td>220.250000</td>\n",
       "    </tr>\n",
       "    <tr>\n",
       "      <th>50%</th>\n",
       "      <td>221.500000</td>\n",
       "      <td>221.500000</td>\n",
       "      <td>222.000000</td>\n",
       "      <td>223.000000</td>\n",
       "      <td>221.000000</td>\n",
       "      <td>223.000000</td>\n",
       "      <td>220.50000</td>\n",
       "      <td>222.000000</td>\n",
       "      <td>221.500000</td>\n",
       "      <td>222.000000</td>\n",
       "      <td>...</td>\n",
       "      <td>220.000000</td>\n",
       "      <td>220.000000</td>\n",
       "      <td>222.000000</td>\n",
       "      <td>223.000000</td>\n",
       "      <td>221.500000</td>\n",
       "      <td>221.000000</td>\n",
       "      <td>221.500000</td>\n",
       "      <td>222.500000</td>\n",
       "      <td>221.500000</td>\n",
       "      <td>221.000000</td>\n",
       "    </tr>\n",
       "    <tr>\n",
       "      <th>75%</th>\n",
       "      <td>223.500000</td>\n",
       "      <td>222.750000</td>\n",
       "      <td>223.750000</td>\n",
       "      <td>223.000000</td>\n",
       "      <td>222.500000</td>\n",
       "      <td>223.750000</td>\n",
       "      <td>221.75000</td>\n",
       "      <td>223.000000</td>\n",
       "      <td>222.750000</td>\n",
       "      <td>222.000000</td>\n",
       "      <td>...</td>\n",
       "      <td>221.500000</td>\n",
       "      <td>220.000000</td>\n",
       "      <td>222.750000</td>\n",
       "      <td>223.750000</td>\n",
       "      <td>222.750000</td>\n",
       "      <td>221.750000</td>\n",
       "      <td>222.000000</td>\n",
       "      <td>223.750000</td>\n",
       "      <td>222.750000</td>\n",
       "      <td>221.750000</td>\n",
       "    </tr>\n",
       "    <tr>\n",
       "      <th>max</th>\n",
       "      <td>224.000000</td>\n",
       "      <td>223.000000</td>\n",
       "      <td>224.000000</td>\n",
       "      <td>223.000000</td>\n",
       "      <td>223.000000</td>\n",
       "      <td>224.000000</td>\n",
       "      <td>223.00000</td>\n",
       "      <td>224.000000</td>\n",
       "      <td>228.000000</td>\n",
       "      <td>223.000000</td>\n",
       "      <td>...</td>\n",
       "      <td>223.000000</td>\n",
       "      <td>224.000000</td>\n",
       "      <td>223.000000</td>\n",
       "      <td>224.000000</td>\n",
       "      <td>224.000000</td>\n",
       "      <td>224.000000</td>\n",
       "      <td>224.000000</td>\n",
       "      <td>224.000000</td>\n",
       "      <td>223.000000</td>\n",
       "      <td>224.000000</td>\n",
       "    </tr>\n",
       "  </tbody>\n",
       "</table>\n",
       "<p>8 rows × 24 columns</p>\n",
       "</div>"
      ],
      "text/plain": [
       "               0           1           2           3           4           5   \\\n",
       "count    6.000000    6.000000    6.000000    6.000000    6.000000    6.000000   \n",
       "mean   185.333333  185.166667  186.000000  186.166667  185.500000  187.000000   \n",
       "std     90.318695   89.740552   89.661586   89.246662   88.434722   88.674686   \n",
       "min      1.000000    2.000000    3.000000    4.000000    5.000000    6.000000   \n",
       "25%    220.250000  220.250000  221.000000  221.500000  220.250000  222.250000   \n",
       "50%    221.500000  221.500000  222.000000  223.000000  221.000000  223.000000   \n",
       "75%    223.500000  222.750000  223.750000  223.000000  222.500000  223.750000   \n",
       "max    224.000000  223.000000  224.000000  223.000000  223.000000  224.000000   \n",
       "\n",
       "              6           7           8           9   ...          14  \\\n",
       "count    6.00000    6.000000    6.000000    6.000000  ...    6.000000   \n",
       "mean   185.50000  186.500000  187.166667  186.500000  ...  186.833333   \n",
       "std     87.45456   87.459133   87.327926   86.472539  ...   83.700458   \n",
       "min      7.00000    8.000000    9.000000   10.000000  ...   16.000000   \n",
       "25%    220.00000  220.250000  220.250000  220.500000  ...  220.000000   \n",
       "50%    220.50000  222.000000  221.500000  222.000000  ...  220.000000   \n",
       "75%    221.75000  223.000000  222.750000  222.000000  ...  221.500000   \n",
       "max    223.00000  224.000000  228.000000  223.000000  ...  223.000000   \n",
       "\n",
       "               15          16          17          18          19          20  \\\n",
       "count    6.000000    6.000000    6.000000    6.000000    6.000000    6.000000   \n",
       "mean   186.833333  188.166667  189.166667  188.333333  188.166667  188.500000   \n",
       "std     83.216385   83.367660   83.367660   82.478280   81.905840   81.578796   \n",
       "min     17.000000   18.000000   19.000000   20.000000   21.000000   22.000000   \n",
       "25%    220.000000  221.250000  222.250000  220.250000  220.250000  220.250000   \n",
       "50%    220.000000  222.000000  223.000000  221.500000  221.000000  221.500000   \n",
       "75%    220.000000  222.750000  223.750000  222.750000  221.750000  222.000000   \n",
       "max    224.000000  223.000000  224.000000  224.000000  224.000000  224.000000   \n",
       "\n",
       "               21          22          23  \n",
       "count    6.000000    6.000000    6.000000  \n",
       "mean   189.500000  188.833333  188.833333  \n",
       "std     81.576345   80.759932   80.273076  \n",
       "min     23.000000   24.000000   25.000000  \n",
       "25%    221.250000  220.250000  220.250000  \n",
       "50%    222.500000  221.500000  221.000000  \n",
       "75%    223.750000  222.750000  221.750000  \n",
       "max    224.000000  223.000000  224.000000  \n",
       "\n",
       "[8 rows x 24 columns]"
      ]
     },
     "execution_count": 17,
     "metadata": {},
     "output_type": "execute_result"
    }
   ],
   "source": [
    "t_df.describe()"
   ]
  },
  {
   "cell_type": "code",
   "execution_count": 18,
   "metadata": {},
   "outputs": [
    {
     "data": {
      "text/plain": [
       "<Axes: >"
      ]
     },
     "execution_count": 18,
     "metadata": {},
     "output_type": "execute_result"
    },
    {
     "data": {
      "image/png": "[encoded data removed]",
      "text/plain": [
       "<Figure size 640x480 with 1 Axes>"
      ]
     },
     "metadata": {},
     "output_type": "display_data"
    }
   ],
   "source": [
    "sns.boxplot(t_df)"
   ]
  },
  {
   "cell_type": "code",
   "execution_count": null,
   "metadata": {},
   "outputs": [],
   "source": []
  },
  {
   "cell_type": "markdown",
   "metadata": {},
   "source": []
  },
  {
   "cell_type": "code",
   "execution_count": 19,
   "metadata": {},
   "outputs": [
    {
     "data": {
      "text/html": [
       "<div>\n",
       "<style scoped>\n",
       "    .dataframe tbody tr th:only-of-type {\n",
       "        vertical-align: middle;\n",
       "    }\n",
       "\n",
       "    .dataframe tbody tr th {\n",
       "        vertical-align: top;\n",
       "    }\n",
       "\n",
       "    .dataframe thead th {\n",
       "        text-align: right;\n",
       "    }\n",
       "</style>\n",
       "<table border=\"1\" class=\"dataframe\">\n",
       "  <thead>\n",
       "    <tr style=\"text-align: right;\">\n",
       "      <th></th>\n",
       "      <th>sample_no</th>\n",
       "      <th>x1</th>\n",
       "      <th>x2</th>\n",
       "      <th>x3</th>\n",
       "      <th>x4</th>\n",
       "      <th>x5</th>\n",
       "    </tr>\n",
       "  </thead>\n",
       "  <tbody>\n",
       "    <tr>\n",
       "      <th>0</th>\n",
       "      <td>1</td>\n",
       "      <td>224</td>\n",
       "      <td>220</td>\n",
       "      <td>221</td>\n",
       "      <td>222</td>\n",
       "      <td>224</td>\n",
       "    </tr>\n",
       "    <tr>\n",
       "      <th>1</th>\n",
       "      <td>2</td>\n",
       "      <td>222</td>\n",
       "      <td>220</td>\n",
       "      <td>221</td>\n",
       "      <td>223</td>\n",
       "      <td>223</td>\n",
       "    </tr>\n",
       "    <tr>\n",
       "      <th>2</th>\n",
       "      <td>3</td>\n",
       "      <td>223</td>\n",
       "      <td>221</td>\n",
       "      <td>224</td>\n",
       "      <td>224</td>\n",
       "      <td>221</td>\n",
       "    </tr>\n",
       "    <tr>\n",
       "      <th>3</th>\n",
       "      <td>4</td>\n",
       "      <td>223</td>\n",
       "      <td>221</td>\n",
       "      <td>223</td>\n",
       "      <td>223</td>\n",
       "      <td>223</td>\n",
       "    </tr>\n",
       "    <tr>\n",
       "      <th>4</th>\n",
       "      <td>5</td>\n",
       "      <td>223</td>\n",
       "      <td>221</td>\n",
       "      <td>221</td>\n",
       "      <td>223</td>\n",
       "      <td>220</td>\n",
       "    </tr>\n",
       "  </tbody>\n",
       "</table>\n",
       "</div>"
      ],
      "text/plain": [
       "   sample_no   x1   x2   x3   x4   x5\n",
       "0          1  224  220  221  222  224\n",
       "1          2  222  220  221  223  223\n",
       "2          3  223  221  224  224  221\n",
       "3          4  223  221  223  223  223\n",
       "4          5  223  221  221  223  220"
      ]
     },
     "execution_count": 19,
     "metadata": {},
     "output_type": "execute_result"
    }
   ],
   "source": [
    "data_df.head()"
   ]
  },
  {
   "cell_type": "markdown",
   "metadata": {},
   "source": [
    "observations labels"
   ]
  },
  {
   "cell_type": "code",
   "execution_count": 20,
   "metadata": {},
   "outputs": [
    {
     "data": {
      "text/plain": [
       "Index(['sample_no', 'x1', 'x2', 'x3', 'x4', 'x5'], dtype='object')"
      ]
     },
     "execution_count": 20,
     "metadata": {},
     "output_type": "execute_result"
    }
   ],
   "source": [
    "data_df.columns"
   ]
  },
  {
   "cell_type": "code",
   "execution_count": 25,
   "metadata": {},
   "outputs": [
    {
     "data": {
      "text/plain": [
       "['x1', 'x2', 'x3', 'x4', 'x5']"
      ]
     },
     "execution_count": 25,
     "metadata": {},
     "output_type": "execute_result"
    }
   ],
   "source": [
    "observations_labels =  [column for column in data_df.columns if column.startswith('x') and column[1]!='_'  ]\n",
    "observations_labels"
   ]
  },
  {
   "cell_type": "markdown",
   "metadata": {},
   "source": [
    "calculate x_mean "
   ]
  },
  {
   "cell_type": "code",
   "execution_count": 23,
   "metadata": {},
   "outputs": [
    {
     "data": {
      "text/html": [
       "<div>\n",
       "<style scoped>\n",
       "    .dataframe tbody tr th:only-of-type {\n",
       "        vertical-align: middle;\n",
       "    }\n",
       "\n",
       "    .dataframe tbody tr th {\n",
       "        vertical-align: top;\n",
       "    }\n",
       "\n",
       "    .dataframe thead th {\n",
       "        text-align: right;\n",
       "    }\n",
       "</style>\n",
       "<table border=\"1\" class=\"dataframe\">\n",
       "  <thead>\n",
       "    <tr style=\"text-align: right;\">\n",
       "      <th></th>\n",
       "      <th>sample_no</th>\n",
       "      <th>x1</th>\n",
       "      <th>x2</th>\n",
       "      <th>x3</th>\n",
       "      <th>x4</th>\n",
       "      <th>x5</th>\n",
       "      <th>x_mean</th>\n",
       "    </tr>\n",
       "  </thead>\n",
       "  <tbody>\n",
       "    <tr>\n",
       "      <th>0</th>\n",
       "      <td>1</td>\n",
       "      <td>224</td>\n",
       "      <td>220</td>\n",
       "      <td>221</td>\n",
       "      <td>222</td>\n",
       "      <td>224</td>\n",
       "      <td>222.2</td>\n",
       "    </tr>\n",
       "    <tr>\n",
       "      <th>1</th>\n",
       "      <td>2</td>\n",
       "      <td>222</td>\n",
       "      <td>220</td>\n",
       "      <td>221</td>\n",
       "      <td>223</td>\n",
       "      <td>223</td>\n",
       "      <td>221.8</td>\n",
       "    </tr>\n",
       "    <tr>\n",
       "      <th>2</th>\n",
       "      <td>3</td>\n",
       "      <td>223</td>\n",
       "      <td>221</td>\n",
       "      <td>224</td>\n",
       "      <td>224</td>\n",
       "      <td>221</td>\n",
       "      <td>222.6</td>\n",
       "    </tr>\n",
       "    <tr>\n",
       "      <th>3</th>\n",
       "      <td>4</td>\n",
       "      <td>223</td>\n",
       "      <td>221</td>\n",
       "      <td>223</td>\n",
       "      <td>223</td>\n",
       "      <td>223</td>\n",
       "      <td>222.6</td>\n",
       "    </tr>\n",
       "    <tr>\n",
       "      <th>4</th>\n",
       "      <td>5</td>\n",
       "      <td>223</td>\n",
       "      <td>221</td>\n",
       "      <td>221</td>\n",
       "      <td>223</td>\n",
       "      <td>220</td>\n",
       "      <td>221.6</td>\n",
       "    </tr>\n",
       "  </tbody>\n",
       "</table>\n",
       "</div>"
      ],
      "text/plain": [
       "   sample_no   x1   x2   x3   x4   x5  x_mean\n",
       "0          1  224  220  221  222  224   222.2\n",
       "1          2  222  220  221  223  223   221.8\n",
       "2          3  223  221  224  224  221   222.6\n",
       "3          4  223  221  223  223  223   222.6\n",
       "4          5  223  221  221  223  220   221.6"
      ]
     },
     "execution_count": 23,
     "metadata": {},
     "output_type": "execute_result"
    }
   ],
   "source": [
    "data_df['x_mean'] =  data_df.loc[:,observations_labels].mean(axis=1)\n",
    "data_df.head()"
   ]
  },
  {
   "cell_type": "markdown",
   "metadata": {},
   "source": [
    "calculate Range"
   ]
  },
  {
   "cell_type": "code",
   "execution_count": 26,
   "metadata": {},
   "outputs": [
    {
     "data": {
      "text/html": [
       "<div>\n",
       "<style scoped>\n",
       "    .dataframe tbody tr th:only-of-type {\n",
       "        vertical-align: middle;\n",
       "    }\n",
       "\n",
       "    .dataframe tbody tr th {\n",
       "        vertical-align: top;\n",
       "    }\n",
       "\n",
       "    .dataframe thead th {\n",
       "        text-align: right;\n",
       "    }\n",
       "</style>\n",
       "<table border=\"1\" class=\"dataframe\">\n",
       "  <thead>\n",
       "    <tr style=\"text-align: right;\">\n",
       "      <th></th>\n",
       "      <th>sample_no</th>\n",
       "      <th>x1</th>\n",
       "      <th>x2</th>\n",
       "      <th>x3</th>\n",
       "      <th>x4</th>\n",
       "      <th>x5</th>\n",
       "      <th>x_mean</th>\n",
       "      <th>R</th>\n",
       "    </tr>\n",
       "  </thead>\n",
       "  <tbody>\n",
       "    <tr>\n",
       "      <th>0</th>\n",
       "      <td>1</td>\n",
       "      <td>224</td>\n",
       "      <td>220</td>\n",
       "      <td>221</td>\n",
       "      <td>222</td>\n",
       "      <td>224</td>\n",
       "      <td>222.2</td>\n",
       "      <td>4</td>\n",
       "    </tr>\n",
       "    <tr>\n",
       "      <th>1</th>\n",
       "      <td>2</td>\n",
       "      <td>222</td>\n",
       "      <td>220</td>\n",
       "      <td>221</td>\n",
       "      <td>223</td>\n",
       "      <td>223</td>\n",
       "      <td>221.8</td>\n",
       "      <td>3</td>\n",
       "    </tr>\n",
       "    <tr>\n",
       "      <th>2</th>\n",
       "      <td>3</td>\n",
       "      <td>223</td>\n",
       "      <td>221</td>\n",
       "      <td>224</td>\n",
       "      <td>224</td>\n",
       "      <td>221</td>\n",
       "      <td>222.6</td>\n",
       "      <td>3</td>\n",
       "    </tr>\n",
       "    <tr>\n",
       "      <th>3</th>\n",
       "      <td>4</td>\n",
       "      <td>223</td>\n",
       "      <td>221</td>\n",
       "      <td>223</td>\n",
       "      <td>223</td>\n",
       "      <td>223</td>\n",
       "      <td>222.6</td>\n",
       "      <td>2</td>\n",
       "    </tr>\n",
       "    <tr>\n",
       "      <th>4</th>\n",
       "      <td>5</td>\n",
       "      <td>223</td>\n",
       "      <td>221</td>\n",
       "      <td>221</td>\n",
       "      <td>223</td>\n",
       "      <td>220</td>\n",
       "      <td>221.6</td>\n",
       "      <td>3</td>\n",
       "    </tr>\n",
       "  </tbody>\n",
       "</table>\n",
       "</div>"
      ],
      "text/plain": [
       "   sample_no   x1   x2   x3   x4   x5  x_mean  R\n",
       "0          1  224  220  221  222  224   222.2  4\n",
       "1          2  222  220  221  223  223   221.8  3\n",
       "2          3  223  221  224  224  221   222.6  3\n",
       "3          4  223  221  223  223  223   222.6  2\n",
       "4          5  223  221  221  223  220   221.6  3"
      ]
     },
     "execution_count": 26,
     "metadata": {},
     "output_type": "execute_result"
    }
   ],
   "source": [
    "data_df['R']= data_df.loc[:,observations_labels].max(axis=1) - data_df.loc[:,observations_labels].min(axis=1)\n",
    "data_df.head()"
   ]
  },
  {
   "cell_type": "markdown",
   "metadata": {},
   "source": [
    "## Calculate centre lines"
   ]
  },
  {
   "cell_type": "code",
   "execution_count": null,
   "metadata": {},
   "outputs": [],
   "source": [
    "kind ='x_mean'"
   ]
  },
  {
   "cell_type": "code",
   "execution_count": null,
   "metadata": {},
   "outputs": [
    {
     "data": {
      "text/plain": [
       "222.17499999999998"
      ]
     },
     "execution_count": 33,
     "metadata": {},
     "output_type": "execute_result"
    }
   ],
   "source": [
    "x_bar_bar =  data_df[kind].mean()\n",
    "x_bar_bar"
   ]
  },
  {
   "cell_type": "code",
   "execution_count": null,
   "metadata": {},
   "outputs": [],
   "source": [
    "kind =  'R'"
   ]
  },
  {
   "cell_type": "code",
   "execution_count": null,
   "metadata": {},
   "outputs": [
    {
     "data": {
      "text/plain": [
       "3.5"
      ]
     },
     "execution_count": 35,
     "metadata": {},
     "output_type": "execute_result"
    }
   ],
   "source": [
    "r_bar =  data_df[kind].mean()\n",
    "r_bar"
   ]
  },
  {
   "cell_type": "markdown",
   "metadata": {},
   "source": [
    "## Calculate UCL and LCL "
   ]
  },
  {
   "cell_type": "markdown",
   "metadata": {},
   "source": [
    "### Factors"
   ]
  },
  {
   "cell_type": "markdown",
   "metadata": {},
   "source": [
    "x_mean Control Chart     x_bar_bar + -  A2 R_bar"
   ]
  },
  {
   "cell_type": "code",
   "execution_count": 36,
   "metadata": {},
   "outputs": [
    {
     "data": {
      "text/html": [
       "<div>\n",
       "<style scoped>\n",
       "    .dataframe tbody tr th:only-of-type {\n",
       "        vertical-align: middle;\n",
       "    }\n",
       "\n",
       "    .dataframe tbody tr th {\n",
       "        vertical-align: top;\n",
       "    }\n",
       "\n",
       "    .dataframe thead th {\n",
       "        text-align: right;\n",
       "    }\n",
       "</style>\n",
       "<table border=\"1\" class=\"dataframe\">\n",
       "  <thead>\n",
       "    <tr style=\"text-align: right;\">\n",
       "      <th></th>\n",
       "      <th>sample_size</th>\n",
       "      <th>A2</th>\n",
       "      <th>A3</th>\n",
       "      <th>d2</th>\n",
       "      <th>D3</th>\n",
       "      <th>D4</th>\n",
       "      <th>B3</th>\n",
       "      <th>B4</th>\n",
       "    </tr>\n",
       "  </thead>\n",
       "  <tbody>\n",
       "    <tr>\n",
       "      <th>0</th>\n",
       "      <td>2</td>\n",
       "      <td>1.880</td>\n",
       "      <td>2.659</td>\n",
       "      <td>1.128</td>\n",
       "      <td>0.0</td>\n",
       "      <td>3.267</td>\n",
       "      <td>0.00</td>\n",
       "      <td>3.267</td>\n",
       "    </tr>\n",
       "    <tr>\n",
       "      <th>1</th>\n",
       "      <td>3</td>\n",
       "      <td>1.023</td>\n",
       "      <td>1.954</td>\n",
       "      <td>1.693</td>\n",
       "      <td>0.0</td>\n",
       "      <td>2.574</td>\n",
       "      <td>0.00</td>\n",
       "      <td>2.568</td>\n",
       "    </tr>\n",
       "    <tr>\n",
       "      <th>2</th>\n",
       "      <td>4</td>\n",
       "      <td>0.729</td>\n",
       "      <td>1.628</td>\n",
       "      <td>2.059</td>\n",
       "      <td>0.0</td>\n",
       "      <td>2.282</td>\n",
       "      <td>0.00</td>\n",
       "      <td>2.266</td>\n",
       "    </tr>\n",
       "    <tr>\n",
       "      <th>3</th>\n",
       "      <td>5</td>\n",
       "      <td>0.577</td>\n",
       "      <td>1.427</td>\n",
       "      <td>2.326</td>\n",
       "      <td>0.0</td>\n",
       "      <td>2.114</td>\n",
       "      <td>0.00</td>\n",
       "      <td>2.089</td>\n",
       "    </tr>\n",
       "    <tr>\n",
       "      <th>4</th>\n",
       "      <td>6</td>\n",
       "      <td>0.483</td>\n",
       "      <td>1.287</td>\n",
       "      <td>2.534</td>\n",
       "      <td>0.0</td>\n",
       "      <td>2.004</td>\n",
       "      <td>0.03</td>\n",
       "      <td>1.970</td>\n",
       "    </tr>\n",
       "  </tbody>\n",
       "</table>\n",
       "</div>"
      ],
      "text/plain": [
       "   sample_size     A2     A3     d2   D3     D4    B3     B4\n",
       "0            2  1.880  2.659  1.128  0.0  3.267  0.00  3.267\n",
       "1            3  1.023  1.954  1.693  0.0  2.574  0.00  2.568\n",
       "2            4  0.729  1.628  2.059  0.0  2.282  0.00  2.266\n",
       "3            5  0.577  1.427  2.326  0.0  2.114  0.00  2.089\n",
       "4            6  0.483  1.287  2.534  0.0  2.004  0.03  1.970"
      ]
     },
     "execution_count": 36,
     "metadata": {},
     "output_type": "execute_result"
    }
   ],
   "source": [
    "factor_df  = pd.read_csv('factors.csv')\n",
    "factor_df.head()"
   ]
  },
  {
   "cell_type": "code",
   "execution_count": 37,
   "metadata": {},
   "outputs": [],
   "source": [
    "sample_size  =  5 "
   ]
  },
  {
   "cell_type": "code",
   "execution_count": 38,
   "metadata": {},
   "outputs": [
    {
     "data": {
      "text/plain": [
       "['x1', 'x2', 'x3', 'x4', 'x5']"
      ]
     },
     "execution_count": 38,
     "metadata": {},
     "output_type": "execute_result"
    }
   ],
   "source": [
    "observations_labels"
   ]
  },
  {
   "cell_type": "code",
   "execution_count": 41,
   "metadata": {},
   "outputs": [
    {
     "data": {
      "text/plain": [
       "5"
      ]
     },
     "execution_count": 41,
     "metadata": {},
     "output_type": "execute_result"
    }
   ],
   "source": [
    "sample_size =  len(observations_labels)\n",
    "sample_size"
   ]
  },
  {
   "cell_type": "markdown",
   "metadata": {},
   "source": [
    "Factors: A2 , D4, D3 "
   ]
  },
  {
   "cell_type": "code",
   "execution_count": 50,
   "metadata": {},
   "outputs": [
    {
     "data": {
      "text/plain": [
       "0.0"
      ]
     },
     "execution_count": 50,
     "metadata": {},
     "output_type": "execute_result"
    }
   ],
   "source": [
    "d4 = factor_df.loc[factor_df['sample_size']==sample_size]['D4'].values[0]\n",
    "d4\n",
    "d3 = factor_df.loc[factor_df['sample_size']==sample_size]['D3'].values[0]\n",
    "d3"
   ]
  },
  {
   "cell_type": "code",
   "execution_count": 43,
   "metadata": {},
   "outputs": [
    {
     "data": {
      "text/plain": [
       "0.577"
      ]
     },
     "execution_count": 43,
     "metadata": {},
     "output_type": "execute_result"
    }
   ],
   "source": [
    "a2 =  factor_df.loc[factor_df['sample_size']==sample_size]['A2'].values[0]\n",
    "a2"
   ]
  },
  {
   "cell_type": "code",
   "execution_count": 52,
   "metadata": {},
   "outputs": [
    {
     "name": "stdout",
     "output_type": "stream",
     "text": [
      "220.1555 224.19449999999998\n"
     ]
    }
   ],
   "source": [
    "x_bar_ucl = x_bar_bar + a2 * r_bar\n",
    "x_bar_lcl = x_bar_bar - a2 * r_bar\n",
    "\n",
    "print(x_bar_lcl,x_bar_ucl)"
   ]
  },
  {
   "cell_type": "code",
   "execution_count": 54,
   "metadata": {},
   "outputs": [
    {
     "name": "stdout",
     "output_type": "stream",
     "text": [
      "0.0 7.398999999999999\n"
     ]
    }
   ],
   "source": [
    "r_lcl = d3 * r_bar\n",
    "r_ucl = d4 * r_bar \n",
    "print(r_lcl,r_ucl)"
   ]
  },
  {
   "cell_type": "code",
   "execution_count": 55,
   "metadata": {},
   "outputs": [
    {
     "data": {
      "text/html": [
       "<div>\n",
       "<style scoped>\n",
       "    .dataframe tbody tr th:only-of-type {\n",
       "        vertical-align: middle;\n",
       "    }\n",
       "\n",
       "    .dataframe tbody tr th {\n",
       "        vertical-align: top;\n",
       "    }\n",
       "\n",
       "    .dataframe thead th {\n",
       "        text-align: right;\n",
       "    }\n",
       "</style>\n",
       "<table border=\"1\" class=\"dataframe\">\n",
       "  <thead>\n",
       "    <tr style=\"text-align: right;\">\n",
       "      <th></th>\n",
       "      <th>sample_no</th>\n",
       "      <th>x1</th>\n",
       "      <th>x2</th>\n",
       "      <th>x3</th>\n",
       "      <th>x4</th>\n",
       "      <th>x5</th>\n",
       "      <th>x_mean</th>\n",
       "      <th>R</th>\n",
       "    </tr>\n",
       "  </thead>\n",
       "  <tbody>\n",
       "    <tr>\n",
       "      <th>0</th>\n",
       "      <td>1</td>\n",
       "      <td>224</td>\n",
       "      <td>220</td>\n",
       "      <td>221</td>\n",
       "      <td>222</td>\n",
       "      <td>224</td>\n",
       "      <td>222.2</td>\n",
       "      <td>4</td>\n",
       "    </tr>\n",
       "    <tr>\n",
       "      <th>1</th>\n",
       "      <td>2</td>\n",
       "      <td>222</td>\n",
       "      <td>220</td>\n",
       "      <td>221</td>\n",
       "      <td>223</td>\n",
       "      <td>223</td>\n",
       "      <td>221.8</td>\n",
       "      <td>3</td>\n",
       "    </tr>\n",
       "    <tr>\n",
       "      <th>2</th>\n",
       "      <td>3</td>\n",
       "      <td>223</td>\n",
       "      <td>221</td>\n",
       "      <td>224</td>\n",
       "      <td>224</td>\n",
       "      <td>221</td>\n",
       "      <td>222.6</td>\n",
       "      <td>3</td>\n",
       "    </tr>\n",
       "    <tr>\n",
       "      <th>3</th>\n",
       "      <td>4</td>\n",
       "      <td>223</td>\n",
       "      <td>221</td>\n",
       "      <td>223</td>\n",
       "      <td>223</td>\n",
       "      <td>223</td>\n",
       "      <td>222.6</td>\n",
       "      <td>2</td>\n",
       "    </tr>\n",
       "    <tr>\n",
       "      <th>4</th>\n",
       "      <td>5</td>\n",
       "      <td>223</td>\n",
       "      <td>221</td>\n",
       "      <td>221</td>\n",
       "      <td>223</td>\n",
       "      <td>220</td>\n",
       "      <td>221.6</td>\n",
       "      <td>3</td>\n",
       "    </tr>\n",
       "  </tbody>\n",
       "</table>\n",
       "</div>"
      ],
      "text/plain": [
       "   sample_no   x1   x2   x3   x4   x5  x_mean  R\n",
       "0          1  224  220  221  222  224   222.2  4\n",
       "1          2  222  220  221  223  223   221.8  3\n",
       "2          3  223  221  224  224  221   222.6  3\n",
       "3          4  223  221  223  223  223   222.6  2\n",
       "4          5  223  221  221  223  220   221.6  3"
      ]
     },
     "execution_count": 55,
     "metadata": {},
     "output_type": "execute_result"
    }
   ],
   "source": [
    "data_df.head()"
   ]
  },
  {
   "cell_type": "markdown",
   "metadata": {},
   "source": [
    "# Plot control chart"
   ]
  },
  {
   "cell_type": "code",
   "execution_count": 82,
   "metadata": {},
   "outputs": [],
   "source": [
    "def rule1_validator(data,ucl,lcl,kind):\n",
    "    data['Rule 1'] =  np.nan\n",
    "    for index, row in data.iterrows():\n",
    "        if row[kind] > ucl:\n",
    "            data.loc[index,['Rule 1']] = row[kind]\n",
    "        elif row[kind] < lcl:\n",
    "            data.loc[index,['Rule 1']] = row[kind]\n",
    "\n",
    "    return data\n"
   ]
  },
  {
   "cell_type": "code",
   "execution_count": 86,
   "metadata": {},
   "outputs": [],
   "source": [
    "def plot_control_chart(cl, ucl, lcl, data, kind):\n",
    "\n",
    "    g = sns.FacetGrid(data, height= 6, aspect=3 )\n",
    "\n",
    "    g.map(sns.lineplot,'sample_no',kind)  \n",
    "    g.map(sns.scatterplot,'sample_no',kind)  # oplot data points\n",
    "\n",
    "    g.refline(y=cl,color='orange',label = 'Centre Line')  # plot centre line\n",
    "\n",
    "    g.refline(y=ucl,color='green', label = 'Upper control limit')\n",
    "    g.refline(y=lcl,color='green', label ='Lower control limit ' )\n",
    "\n",
    "    data = rule1_validator(data,ucl,lcl,kind)\n",
    "    print(data.head())\n",
    "\n",
    "    g.map(sns.scatterplot,'sample_no','Rule 1',color = 'red')\n",
    "\n",
    "\n"
   ]
  },
  {
   "cell_type": "code",
   "execution_count": 87,
   "metadata": {},
   "outputs": [
    {
     "name": "stdout",
     "output_type": "stream",
     "text": [
      "   sample_no   x1   x2   x3   x4   x5  x_mean  R  Rule 1\n",
      "0          1  224  220  221  222  224   222.2  4     NaN\n",
      "1          2  222  220  221  223  223   221.8  3     NaN\n",
      "2          3  223  221  224  224  221   222.6  3     NaN\n",
      "3          4  223  221  223  223  223   222.6  2     NaN\n",
      "4          5  223  221  221  223  220   221.6  3     NaN\n"
     ]
    },
    {
     "data": {
      "image/png": "[encoded data removed]",
      "text/plain": [
       "<Figure size 1800x600 with 1 Axes>"
      ]
     },
     "metadata": {},
     "output_type": "display_data"
    }
   ],
   "source": [
    "plot_control_chart(x_bar_bar,x_bar_ucl,x_bar_lcl,data_df,'x_mean')"
   ]
  },
  {
   "cell_type": "code",
   "execution_count": null,
   "metadata": {},
   "outputs": [],
   "source": [
    "class ControlChart():\n",
    "    \n",
    "    def __init__(self,data):\n",
    "        self.data = data\n",
    "        self.observations_labels =  [column for column in data.columns if column.startswith('x') and column[1]!='_'  ]\n",
    "        self.sample_size =  len(self.observations_labels)\n",
    "        \n",
    "        pass\n",
    "\n",
    "    def rule1_validator(self,data,ucl,lcl,kind):\n",
    "        data['Rule 1'] =  np.nan\n",
    "        for index, row in data.iterrows():\n",
    "            if row[kind] > ucl:\n",
    "                data.loc[index,['Rule 1']] = row[kind]\n",
    "            elif row[kind] < lcl:\n",
    "                data.loc[index,['Rule 1']] = row[kind]\n",
    "\n",
    "        return data\n",
    "    \n",
    "    def _calculate_mean(self,kind):\n",
    "        if kind =='R' or self.sample_size > 1:\n",
    "            self.data['R']= self.data.loc[:,self.observations_labels].max(axis=1) \\\n",
    "                            -self.data.loc[:,self.observations_labels].min(axis=1)\n",
    "            variability_mean  =  self.data['R'].mean()\n",
    "\n",
    "        if kind == 'x_mean':\n",
    "            self.data['x_mean'] =  self.data.loc[:,self.observations_labels].mean(axis=1)\n",
    "        \n",
    "        return variability_mean \n",
    "\n",
    "    def  _calculate_centre_lines(self,kind):\n",
    "        return self.data[kind].mean()\n",
    "        \n",
    "    \n",
    "    def _calculate_limits(self, variability_mean,kind):\n",
    "        factor_df  = pd.read_csv('factors.csv')\n",
    "        centre_line =  self._calculate_centre_lines(kind)\n",
    "\n",
    "        if kind == 'x_mean':\n",
    "            a2 =  factor_df.loc[factor_df['sample_size']==self.sample_size]['A2'].values[0]\n",
    "            return centre_line + a2 * variability_mean , centre_line - a2 * variability_mean\n",
    "                    # x_ba_bar  + a2 * r_bar           ,    x_bar_bar - a2 * r_bar\n",
    "\n",
    "        if kind == 'R':\n",
    "            d4 = factor_df.loc[factor_df['sample_size']==self.sample_size]['D4'].values[0]\n",
    "\n",
    "            d3 = factor_df.loc[factor_df['sample_size']==self.sample_size]['D3'].values[0]\n",
    "\n",
    "            return d4*variability_mean, d3*variability_mean\n",
    "                    # d4 * r_bar                  d3 * r_bar\n",
    "\n",
    "\n",
    "\n",
    "\n",
    "    def _plot_control_chart(self,cl, ucl, lcl, kind):\n",
    "        g = sns.FacetGrid(self.data, height= 6, aspect=3 )\n",
    "        g.map(sns.lineplot,'sample_no',kind)  \n",
    "        g.map(sns.scatterplot,'sample_no',kind)  # oplot data points\n",
    "        g.refline(y=cl,color='orange',label = 'Centre Line')  # plot centre line\n",
    "        g.refline(y=ucl,color='green', label = 'Upper control limit')\n",
    "        g.refline(y=lcl,color='green', label ='Lower control limit ' )\n",
    "        #data = rule1_validator(data,ucl,lcl,kind)\n",
    "        \n",
    "        #g.map(sns.scatterplot,'sample_no','Rule 1',color = 'red')\n",
    "    \n",
    "\n",
    "    def create_control_chart(self,kind):\n",
    "\n",
    "        variabiliy_mean = self._calculate_mean(kind)\n",
    "        centre_line =  self._calculate_centre_lines(kind)\n",
    "        ucl,lcl = self._calculate_limits(variabiliy_mean,kind)\n",
    "        g=self._plot_control_chart(centre_line,ucl,lcl,kind)\n"
   ]
  },
  {
   "cell_type": "code",
   "execution_count": 96,
   "metadata": {},
   "outputs": [],
   "source": [
    "c_chart = ControlChart(data=data_df)"
   ]
  },
  {
   "cell_type": "code",
   "execution_count": 97,
   "metadata": {},
   "outputs": [
    {
     "data": {
      "image/png": "[encoded data removed]",
      "text/plain": [
       "<Figure size 1800x600 with 1 Axes>"
      ]
     },
     "metadata": {},
     "output_type": "display_data"
    }
   ],
   "source": [
    "c_chart.create_control_chart('R')"
   ]
  }
 ],
 "metadata": {
  "kernelspec": {
   "display_name": "uxs24",
   "language": "python",
   "name": "python3"
  },
  "language_info": {
   "codemirror_mode": {
    "name": "ipython",
    "version": 3
   },
   "file_extension": ".py",
   "mimetype": "text/x-python",
   "name": "python",
   "nbconvert_exporter": "python",
   "pygments_lexer": "ipython3",
   "version": "3.9.19"
  }
 },
 "nbformat": 4,
 "nbformat_minor": 2
}
